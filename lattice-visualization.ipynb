{
 "cells": [
  {
   "cell_type": "code",
   "execution_count": null,
   "metadata": {},
   "outputs": [],
   "source": [
    "import functools\n",
    "import itertools\n",
    "\n",
    "import attr\n",
    "import networkx\n",
    "\n",
    "\n",
    "def relation_is_transitive(relation: networkx.Graph):\n",
    "    return len(relation.edges()) == len(networkx.transitive_closure(relation).edges())\n",
    "\n",
    "\n",
    "def relation_is_antisymmetric(relation: networkx.Graph):\n",
    "    return len(relation) == len(networkx.condensation(relation))\n",
    "\n",
    "\n",
    "def relation_is_reflexive(relation: networkx.Graph):\n",
    "    return all(relation.has_successor(v, v) for v in relation)\n",
    "\n",
    "\n",
    "def relation_is_poset(relation: networkx.Graph):\n",
    "    return (\n",
    "        relation_is_transitive(relation)\n",
    "        and relation_is_antisymmetric(relation)\n",
    "        and relation_is_reflexive(relation)\n",
    "    )\n",
    "\n",
    "\n",
    "@attr.s(frozen=True, slots=True)\n",
    "class Poset:\n",
    "    reduced = attr.ib()\n",
    "    closed = attr.ib(validator=lambda self, attr, rel: relation_is_poset(rel))\n",
    "    \n",
    "    @classmethod\n",
    "    def from_reduced(cls, reduced: networkx.DiGraph):\n",
    "        assert networkx.is_directed_acyclic_graph(reduced)\n",
    "        if not networkx.is_frozen(reduced):\n",
    "            reduced = networkx.freeze(reduced.copy())\n",
    "        closed = networkx.transitive_closure(reduced)\n",
    "        closed.add_edges_from(zip(closed, closed))\n",
    "        closed = networkx.freeze(closed)\n",
    "        return cls(reduced=reduced, closed=closed)\n",
    "    \n",
    "    @classmethod\n",
    "    def from_closed(cls, closed: networkx.DiGraph):\n",
    "        reduced = closed.copy()\n",
    "        if not networkx.is_frozen(closed):\n",
    "            closed = networkx.freeze(closed.copy())\n",
    "        reduced.remove_edges_from(zip(closed, closed))\n",
    "        reduced = networkx.transitive_reduction(reduced)\n",
    "        reduced = networkx.freeze(reduced)\n",
    "        return cls(reduced=reduced, closed=closed)\n",
    "    \n",
    "    def subposet(self, removed_nodes):\n",
    "        clo = self.closed.copy()\n",
    "        clo.remove_nodes_from(removed_nodes)\n",
    "        clo = networkx.convert_node_labels_to_integers(clo)\n",
    "        return self.from_closed(clo)\n",
    "\n",
    "    def upper_bounds(self, subset):\n",
    "        return functools.reduce(\n",
    "            set.intersection,\n",
    "            map(self.closed.successors, subset),\n",
    "            set(self.closed),\n",
    "        )\n",
    "\n",
    "    def lower_bounds(self, subset):\n",
    "        return functools.reduce(\n",
    "            set.intersection,\n",
    "            map(self.closed.predecessors, subset),\n",
    "            set(self.closed),\n",
    "        )\n",
    "\n",
    "    def supremum_candidates(self, subset):\n",
    "        upper = self.upper_bounds(subset)\n",
    "        lower = self.lower_bounds(upper)\n",
    "        return upper & lower\n",
    "\n",
    "    def supremum(self, subset):\n",
    "        candidates = tuple(self.supremum_candidates(subset))\n",
    "        assert 1 == len(candidates)\n",
    "        return candidates[0]\n",
    "    \n",
    "    def is_join_semilattice(self):\n",
    "        for i in self.closed:\n",
    "            for j in self.closed:\n",
    "                if i < j and 1 != len(self.supremum_candidates({i, j})):    \n",
    "                    return False\n",
    "        return True\n",
    "    \n",
    "    def is_meet_semilattice(self):\n",
    "        return Poset(\n",
    "            networkx.reverse_view(self.reduced),\n",
    "            networkx.reverse_view(self.closed),\n",
    "        ).is_join_semilattice()\n",
    "\n",
    "    def is_lattice(self):\n",
    "        return self.is_join_semilattice() and self.is_meet_semilattice()\n",
    "    \n",
    "    def join_irreducibles(self):\n",
    "        return {node for node in self.reduced if 1 == self.reduced.out_degree(node)}"
   ]
  },
  {
   "cell_type": "code",
   "execution_count": null,
   "metadata": {
    "scrolled": true
   },
   "outputs": [],
   "source": [
    "MAX_LATTICE_WITH_4_IRREDUCIBLES = Poset.from_reduced(networkx.DiGraph(\n",
    "    {\n",
    "        0: [1, 2, 3, 4],\n",
    "        1: [5, 6, 10],\n",
    "        2: [5, 7, 8],\n",
    "        3: [6, 7, 9],\n",
    "        4: [10, 8, 9],\n",
    "        5: [11, 12],\n",
    "        6: [11, 13],\n",
    "        7: [11, 14],\n",
    "        8: [12, 14],\n",
    "        9: [13, 14],\n",
    "        10: [12, 13],\n",
    "        11: [15],\n",
    "        12: [15],\n",
    "        13: [15],\n",
    "        14: [15],\n",
    "        15: [],\n",
    "    },\n",
    "))\n",
    "\n",
    "assert MAX_LATTICE_WITH_4_IRREDUCIBLES.is_lattice()"
   ]
  },
  {
   "cell_type": "code",
   "execution_count": null,
   "metadata": {},
   "outputs": [],
   "source": [
    "MAX_LATTICE_WITH_4_IRREDUCIBLES.join_irreducibles()"
   ]
  },
  {
   "cell_type": "code",
   "execution_count": null,
   "metadata": {},
   "outputs": [],
   "source": [
    "def all_lattices_with_k_irreducibles(k: int):\n",
    "    assert k <= 4\n",
    "    \n",
    "    result = []\n",
    "\n",
    "    for size in range(len(MAX_LATTICE_WITH_4_IRREDUCIBLES.closed.nodes)):\n",
    "        for combination in itertools.combinations(MAX_LATTICE_WITH_4_IRREDUCIBLES.closed.nodes, size):\n",
    "            subposet = MAX_LATTICE_WITH_4_IRREDUCIBLES.subposet(combination)\n",
    "            if (\n",
    "                subposet.is_lattice()\n",
    "                and k == len(subposet.join_irreducibles())\n",
    "                and not any(networkx.is_isomorphic(subposet.reduced, old.reduced) for old in result)\n",
    "            ):\n",
    "                result.append(subposet)\n",
    "    return result"
   ]
  },
  {
   "cell_type": "code",
   "execution_count": null,
   "metadata": {},
   "outputs": [],
   "source": [
    "%%time\n",
    "all_4_irred_lattices = all_lattices_with_k_irreducibles(4)"
   ]
  },
  {
   "cell_type": "code",
   "execution_count": null,
   "metadata": {},
   "outputs": [],
   "source": [
    "assert 126 == len(all_4_irred_lattices)"
   ]
  },
  {
   "cell_type": "code",
   "execution_count": null,
   "metadata": {},
   "outputs": [],
   "source": [
    "def draw_poset(poset: Poset, pos=None):\n",
    "    networkx.draw_networkx(poset.reduced, pos=pos)"
   ]
  },
  {
   "cell_type": "code",
   "execution_count": null,
   "metadata": {},
   "outputs": [],
   "source": [
    "def recover_all_positions(lattice: Poset, known_positions, irreducibles):\n",
    "    top = [node for node in lattice.reduced if 0 == lattice.reduced.out_degree(node)][0]\n",
    "    d = {node: lattice.reduced.out_degree(node) for node in lattice.reduced}\n",
    "    \n",
    "    result = dict(known_positions)\n",
    "    result[top] = np.asarray([0., 0.])\n",
    "\n",
    "    queue = collections.deque([top])\n",
    "    visited = {top}\n",
    "    delta_index = collections.Counter()\n",
    "    while queue:\n",
    "        cur = queue.popleft()\n",
    "        for neigh in lattice.reduced.predecessors(cur):\n",
    "            if neigh in visited:\n",
    "                continue\n",
    "            if neigh in result:\n",
    "                if neigh in irreducibles:\n",
    "                    delta_index[cur] += 1\n",
    "                visited.add(neigh)\n",
    "                queue.append(neigh)\n",
    "                continue\n",
    "            d[neigh] -= 1\n",
    "            assert d[neigh] >= 0\n",
    "            if 0 == d[neigh]:\n",
    "                result[neigh] = sum(map(\n",
    "                    result.__getitem__, \n",
    "                    (irreducibles - {neigh}) & set(lattice.closed.successors(neigh)),\n",
    "                ))\n",
    "                if neigh in irreducibles:\n",
    "                    result[neigh] += np.asarray([0, -2]) + np.asarray([2, 0]) * delta_index[cur]\n",
    "                    delta_index[cur] += 1\n",
    "                visited.add(neigh)\n",
    "                queue.append(neigh)\n",
    "    assert len(result) == len(lattice.reduced.nodes)\n",
    "    return result"
   ]
  },
  {
   "cell_type": "code",
   "execution_count": null,
   "metadata": {},
   "outputs": [],
   "source": [
    "import collections\n",
    "import numpy as np\n",
    "\n",
    "def get_init_coordinates(lattice: Poset):\n",
    "    top = [node for node in lattice.reduced if 0 == lattice.reduced.out_degree(node)][0]\n",
    "    irred = frozenset(lattice.join_irreducibles())\n",
    "    coatoms = [node for node in irred if lattice.reduced.has_edge(node, top)]\n",
    "    result = {}\n",
    "    result[top] = (0., 0.)\n",
    "    coatom_point = lambda x: np.asarray((x, -0.09 * x**2 - 1.75))\n",
    "    if len(coatoms) % 2:\n",
    "        result[coatoms[0]] = coatom_point(0.)\n",
    "        delta = -0.9\n",
    "    else:\n",
    "        delta = 0.\n",
    "    for i, (a, b) in enumerate(zip(coatoms[1::2], coatoms[2 * (len(coatoms) % 2)::2]), 1):\n",
    "        result[a] = coatom_point(i * 1.8 + delta)\n",
    "        result[b] = coatom_point(-result[a][0])\n",
    "        \n",
    "    return recover_all_positions(lattice, result, irred)"
   ]
  },
  {
   "cell_type": "code",
   "execution_count": null,
   "metadata": {},
   "outputs": [],
   "source": [
    "%matplotlib inline"
   ]
  },
  {
   "cell_type": "code",
   "execution_count": null,
   "metadata": {},
   "outputs": [],
   "source": [
    "from matplotlib import pyplot as plt"
   ]
  },
  {
   "cell_type": "code",
   "execution_count": null,
   "metadata": {},
   "outputs": [],
   "source": [
    "for lat in all_4_irred_lattices[::30]:\n",
    "    plt.figure()\n",
    "    draw_poset(lat, pos=get_init_coordinates(lat))"
   ]
  },
  {
   "cell_type": "code",
   "execution_count": null,
   "metadata": {},
   "outputs": [],
   "source": [
    "import numpy as np\n",
    "\n",
    "# from: https://gist.github.com/nim65s/5e9902cd67f094ce65b0\n",
    "def point_line_distance(P, A, B):\n",
    "    \"\"\" segment line AB, point P, where each one is an array([x, y]) \"\"\"\n",
    "    from numpy import arccos, array, dot, pi, cross\n",
    "    from numpy.linalg import det, norm\n",
    "    \n",
    "    if all(A == P) or all(B == P):\n",
    "        return 0\n",
    "    if arccos(dot((P - A) / norm(P - A), (B - A) / norm(B - A))) > pi / 2:\n",
    "        return norm(P - A)\n",
    "    if arccos(dot((P - B) / norm(P - B), (A - B) / norm(A - B))) > pi / 2:\n",
    "        return norm(P - B)\n",
    "    return norm(cross(A-B, A-P))/norm(B-A)\n",
    "\n",
    "def recover_positions_from_irred_pos(lattice, irred_pos, irreducibles):\n",
    "    return recover_all_positions(\n",
    "        lattice,\n",
    "        dict(zip(irreducibles, irred_pos.reshape((len(irreducibles), 2)))),\n",
    "        irreducibles,\n",
    "    )\n",
    "\n",
    "def energy(irred_pos, lattice):\n",
    "    irreducibles = lattice.join_irreducibles()\n",
    "    pos = recover_positions_from_irred_pos(lattice, irred_pos, irreducibles)  \n",
    "    \n",
    "    def repulsive(node):\n",
    "        return 4 * sum(\n",
    "            1. / point_line_distance(pos[node], pos[edge[0]], pos[edge[1]])\n",
    "            for edge in lattice.reduced.edges\n",
    "            if node not in edge\n",
    "        )\n",
    "        \n",
    "    def attractive(node):\n",
    "        return 4 * sum(\n",
    "            ((pos[neigh] - pos[node]) ** 2).sum()\n",
    "            for neigh in lattice.reduced.successors(node)\n",
    "        )\n",
    "\n",
    "    phi_0 = np.pi / (len(irreducibles) + 1)\n",
    "    E_0 = -phi_0 - np.sin(phi_0) * np.cos(phi_0)\n",
    "    E_1 = E_0 + np.pi\n",
    "    def gravity(node):\n",
    "        e_grav = 0.\n",
    "        if node in irreducibles:\n",
    "            for upper in lattice.reduced.successors(node):\n",
    "                break\n",
    "            edge_vector = pos[upper] - pos[node]\n",
    "            phi = np.pi - np.arctan2(*edge_vector[::-1])\n",
    "            e = phi + 1./ np.tan(phi) * np.sin(phi_0)**2\n",
    "            if  phi <= phi_0:\n",
    "                e_grav += e + E_0\n",
    "            elif np.pi -  phi_0 <= phi:\n",
    "                e_grav += -e + E_1\n",
    "        return 12 * e_grav\n",
    "\n",
    "    return sum(\n",
    "        component(node)\n",
    "        for node in lattice.closed\n",
    "        for component in [attractive, gravity, repulsive]\n",
    "    )"
   ]
  },
  {
   "cell_type": "code",
   "execution_count": null,
   "metadata": {},
   "outputs": [],
   "source": [
    "def get_init_irreducible_coordinates(lattice: Poset):\n",
    "    all = get_init_coordinates(lattice)\n",
    "    res = np.asarray([all[i] for i in lattice.join_irreducibles()])\n",
    "    return res.reshape((res.shape[0] * res.shape[1]))\n",
    "\n",
    "energy(\n",
    "    get_init_irreducible_coordinates(all_4_irred_lattices[-5]),\n",
    "    all_4_irred_lattices[-5])"
   ]
  },
  {
   "cell_type": "code",
   "execution_count": null,
   "metadata": {},
   "outputs": [],
   "source": [
    "def make_np_coords(pos):\n",
    "    return np.asarray([pos[i] for i in range(len(pos))]).reshape((2 * len(pos),))"
   ]
  },
  {
   "cell_type": "code",
   "execution_count": null,
   "metadata": {},
   "outputs": [],
   "source": [
    "import scipy.optimize\n",
    "def get_optimal_pos(lattice):\n",
    "    init = get_init_irreducible_coordinates(lattice)\n",
    "    res = scipy.optimize.minimize(energy, init, args=(lattice,))\n",
    "    return recover_positions_from_irred_pos(lattice, res.x, lattice.join_irreducibles())"
   ]
  },
  {
   "cell_type": "code",
   "execution_count": null,
   "metadata": {},
   "outputs": [],
   "source": [
    "def draw_optimal(lattice):\n",
    "    draw_poset(lattice, get_optimal_pos(lattice))"
   ]
  },
  {
   "cell_type": "code",
   "execution_count": null,
   "metadata": {},
   "outputs": [],
   "source": [
    "draw_poset(MAX_LATTICE_WITH_4_IRREDUCIBLES, get_init_coordinates(MAX_LATTICE_WITH_4_IRREDUCIBLES))"
   ]
  },
  {
   "cell_type": "code",
   "execution_count": null,
   "metadata": {},
   "outputs": [],
   "source": [
    "draw_optimal(MAX_LATTICE_WITH_4_IRREDUCIBLES)"
   ]
  },
  {
   "cell_type": "code",
   "execution_count": null,
   "metadata": {
    "scrolled": false
   },
   "outputs": [],
   "source": [
    "import warnings\n",
    "warnings.filterwarnings(\"ignore\")\n",
    "\n",
    "for lat in all_4_irred_lattices[::-1]:\n",
    "    plt.figure()\n",
    "    draw_optimal(lat)"
   ]
  }
 ],
 "metadata": {
  "kernelspec": {
   "display_name": "Python 3",
   "language": "python",
   "name": "python3"
  },
  "language_info": {
   "codemirror_mode": {
    "name": "ipython",
    "version": 3
   },
   "file_extension": ".py",
   "mimetype": "text/x-python",
   "name": "python",
   "nbconvert_exporter": "python",
   "pygments_lexer": "ipython3",
   "version": "3.7.1"
  }
 },
 "nbformat": 4,
 "nbformat_minor": 2
}
